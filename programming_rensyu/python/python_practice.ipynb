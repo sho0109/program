{
 "cells": [
  {
   "cell_type": "code",
   "execution_count": 1,
   "metadata": {},
   "outputs": [
    {
     "name": "stdout",
     "output_type": "stream",
     "text": [
      "[1, 2, 'three']\n"
     ]
    }
   ],
   "source": [
    "list_out = [1,2,'three']\n",
    "print(list_out)"
   ]
  },
  {
   "cell_type": "code",
   "execution_count": 2,
   "metadata": {},
   "outputs": [
    {
     "name": "stdout",
     "output_type": "stream",
     "text": [
      "50 15\n"
     ]
    },
    {
     "data": {
      "text/plain": [
       "[50, 15]"
      ]
     },
     "execution_count": 2,
     "metadata": {},
     "output_type": "execute_result"
    }
   ],
   "source": [
    "def calc(param1,param2):\n",
    "    print(param1*param2,param1+param2)\n",
    "    return  [param1*param2,param1+param2]\n",
    "\n",
    "num1 = 10 \n",
    "num2 = 5\n",
    "ans = calc(num1,num2)\n",
    "ans"
   ]
  },
  {
   "cell_type": "code",
   "execution_count": 3,
   "metadata": {},
   "outputs": [
    {
     "name": "stdout",
     "output_type": "stream",
     "text": [
      "hello world\n",
      "None\n",
      "['one', 'two', 3, [4, 5, 6], 4, 5, 6]\n"
     ]
    }
   ],
   "source": [
    "print('{greeting} {object}'.format(greeting = 'hello', object = 'world'))\n",
    "li1 = ['one','two',3,]\n",
    "li2 = [4,5,6]\n",
    "print(li1.append(li2))#.append()は()内のものを'要素として'追加する\n",
    "li3 = li1+li2\n",
    "print(li3)#配列同士の結合"
   ]
  },
  {
   "cell_type": "code",
   "execution_count": 5,
   "metadata": {},
   "outputs": [
    {
     "name": "stdout",
     "output_type": "stream",
     "text": [
      "None\n",
      "['one', 'two', 3, 4, 5, 6]\n"
     ]
    }
   ],
   "source": [
    "li1 = ['one','two',3,]\n",
    "li2 = [4,5,6]\n",
    "print((li1.copy()).append(li2.copy()))#li1とli2を保存するため.copy()を用いた または、Tuplesを用いる方法もある\n",
    "li3 = li1+li2\n",
    "print(li3)#list.append()メソッドは、リストの末尾に引数として与えられた要素を追加しますが、戻り値はありません。そのため、li1.append(li2)自体の結果はNoneとなります。"
   ]
  },
  {
   "cell_type": "code",
   "execution_count": 6,
   "metadata": {},
   "outputs": [
    {
     "name": "stdout",
     "output_type": "stream",
     "text": [
      "None\n",
      "['one', 'two', 3, [4, 5, 6], 4, 5, 6]\n"
     ]
    }
   ],
   "source": [
    "li1 = ['one', 'two', 3]\n",
    "li2 = [4, 5, 6]\n",
    "li3 = li1.append(li2)\n",
    "print(li3)\n",
    "li4 = li1 + li2\n",
    "print(li4)"
   ]
  },
  {
   "cell_type": "code",
   "execution_count": null,
   "metadata": {},
   "outputs": [
    {
     "name": "stdout",
     "output_type": "stream",
     "text": [
      "['one', 'two', 3, [4, 5, 6]]\n"
     ]
    }
   ],
   "source": [
    "li1 = ['one', 'two', 3]\n",
    "li2 = [4, 5, 6]\n",
    "li1.append(li2) #append()メソッドはリストを変更するだけで、新しいリストを返さないため、直接戻り値を取得することはできません\n",
    "updated_li1 = li1  # 追加後のリストを新しい変数に代入\n",
    "print(updated_li1)"
   ]
  },
  {
   "cell_type": "code",
   "execution_count": 1,
   "metadata": {},
   "outputs": [
    {
     "name": "stdout",
     "output_type": "stream",
     "text": [
      "['one', 'two', 3, [4, 5, 6]]\n",
      "['one', 'two', 3, [4, 5, 6], 4, 5, 6]\n",
      "['one', 'two', 3, [4, 5, 6]] [4, 5, 6]\n"
     ]
    }
   ],
   "source": [
    "li1 = ['one', 'two', 3]\n",
    "li2 = [4, 5, 6]\n",
    "li1.append(li2)\n",
    "li3 = li1  \n",
    "print(li3)\n",
    "li4 = li1 + li2\n",
    "print(li4)\n",
    "print(li1,li2)"
   ]
  },
  {
   "cell_type": "code",
   "execution_count": 1,
   "metadata": {},
   "outputs": [
    {
     "name": "stdout",
     "output_type": "stream",
     "text": [
      "['one', 'two', 3, [4, 5, 6]]\n",
      "['one', 'two', 3, 4, 5, 6]\n"
     ]
    }
   ],
   "source": [
    "li1 = ['one', 'two', 3]\n",
    "li2 = [4, 5, 6]\n",
    "li1_copy = li1.copy()\n",
    "li1_copy.append(li2)\n",
    "li3 = li1_copy  \n",
    "print(li3)\n",
    "li4 = li1 + li2\n",
    "print(li4)\n"
   ]
  },
  {
   "cell_type": "code",
   "execution_count": 1,
   "metadata": {},
   "outputs": [
    {
     "name": "stdout",
     "output_type": "stream",
     "text": [
      "java\n",
      "python\n",
      "c++\n"
     ]
    }
   ],
   "source": [
    "def print_args(*args):\n",
    "    for elem in args:\n",
    "        print(elem)\n",
    "\n",
    "print_args('java','python','c++') #関数の中では args にタプルで保存されているので，そこにアクセスすることで引数を取り出せます．\n"
   ]
  },
  {
   "cell_type": "code",
   "execution_count": 4,
   "metadata": {},
   "outputs": [
    {
     "name": "stdout",
     "output_type": "stream",
     "text": [
      "{'greeting': 'hello'}\n"
     ]
    }
   ],
   "source": [
    "\n",
    "def print_dict(**kwargs):\n",
    "    print(kwargs)\n",
    "print_dict(greeting= 'hello')#「keyword arguments 」の略で，引数がタプルではなくてdictionaryになります．argsがタプル，kwargsがkeywordつきのdictionaryと言ったイメージですね．関数を呼ぶときに function(param1=value1, param2=value2) という具合でkeywordとvalueを指定します．"
   ]
  },
  {
   "cell_type": "code",
   "execution_count": 8,
   "metadata": {},
   "outputs": [
    {
     "data": {
      "text/plain": [
       "'C:\\\\Users\\\\松本翔英\\\\AppData\\\\Local\\\\Packages\\\\PythonSoftwareFoundation.Python.3.11_qbz5n2kfra8p0\\\\LocalCache\\\\local-packages\\\\Python311\\\\site-packages\\\\numpy\\\\__init__.py'"
      ]
     },
     "execution_count": 8,
     "metadata": {},
     "output_type": "execute_result"
    }
   ],
   "source": [
    "import numpy as np\n",
    "np.__file__\n"
   ]
  },
  {
   "cell_type": "code",
   "execution_count": 9,
   "metadata": {},
   "outputs": [
    {
     "name": "stdout",
     "output_type": "stream",
     "text": [
      "[[ 5  4 12]\n",
      " [ 9  4  9]\n",
      " [ 1 12  9]]\n",
      "(3, 3)\n",
      "[[ 4 12]\n",
      " [ 4  9]\n",
      " [12  9]]\n",
      "[353   2   6   6]\n",
      "[0.  0.1 0.2 0.3 0.4 0.5 0.6 0.7 0.8 0.9 1.  1.1 1.2 1.3 1.4 1.5 1.6 1.7\n",
      " 1.8 1.9 2.  2.1 2.2 2.3 2.4 2.5 2.6 2.7 2.8 2.9 3.  3.1 3.2 3.3 3.4 3.5\n",
      " 3.6 3.7 3.8 3.9 4.  4.1 4.2 4.3 4.4 4.5 4.6 4.7 4.8 4.9]\n",
      "[1.         1.04081633 1.08163265 1.12244898 1.16326531 1.20408163\n",
      " 1.24489796 1.28571429 1.32653061 1.36734694 1.40816327 1.44897959\n",
      " 1.48979592 1.53061224 1.57142857 1.6122449  1.65306122 1.69387755\n",
      " 1.73469388 1.7755102  1.81632653 1.85714286 1.89795918 1.93877551\n",
      " 1.97959184 2.02040816 2.06122449 2.10204082 2.14285714 2.18367347\n",
      " 2.2244898  2.26530612 2.30612245 2.34693878 2.3877551  2.42857143\n",
      " 2.46938776 2.51020408 2.55102041 2.59183673 2.63265306 2.67346939\n",
      " 2.71428571 2.75510204 2.79591837 2.83673469 2.87755102 2.91836735\n",
      " 2.95918367 3.        ]\n"
     ]
    }
   ],
   "source": [
    "np_list1 = np.array([1,2,3])\n",
    "np_list2 = np.array([[5,2,4], [9,2,3], [1,6,3]])\n",
    "np_list3 = np.array([np.arange(3,31,2), [3,35,353,5,3,2,6,46,6,8,9,6,7,4]])\n",
    "print(np_list1 * np_list2)\n",
    "print((np_list1 * np_list2).shape)\n",
    "li = np_list1 * np_list2\n",
    "print(li[:,1:])\n",
    "print(np_list3[1, 2:14:3])\n",
    "print(np.arange(0, 5, 0.1))#例えばある閾値をたくさん用意してその結果がどう変わるか見る場合に，np.arange()で閾値のリストを作ることができる\n",
    "print(np.linspace(1,3,50))#stepを指定したい時はnp.arange()で，stepはなんでもいいが特定の数だけほしいという場合はnp.linspace()が使える。stopの値を含むことに注意!\n"
   ]
  },
  {
   "cell_type": "code",
   "execution_count": 10,
   "metadata": {},
   "outputs": [
    {
     "name": "stdout",
     "output_type": "stream",
     "text": [
      "output_str: hello world\n",
      "output_list: ['h', 'e', 'l', 'l', 'o', ' ', 'w', 'o', 'r', 'l', 'd']\n",
      "h_str: hello\n",
      "h_list: ['h', 'e', 'l', 'l', 'o', ' ', 'w', 'o', 'r', 'l', 'd']\n",
      "original array's id is 2330838686320\n",
      "copied array's id is 2331010079632\n",
      "original array:\n",
      " [100 100 100 100 100]\n",
      "copied array:\n",
      " [0 1 2 3 4]\n",
      "[100   1   2   3]\n",
      "[100   1   2   3]\n",
      "original array_1:\n",
      " [100   1   2   3]\n",
      "original array_2:\n",
      " [0 1 2 3]\n"
     ]
    }
   ],
   "source": [
    "def add_world(hello):\n",
    "    hello += ' world'\n",
    "    return hello\n",
    "\n",
    "h_str = 'hello'# immutable\n",
    "h_list = ['h', 'e', 'l', 'l', 'o'] #mutable\n",
    "output_str = add_world(h_str)#参照渡し(strだからh_str自体には2行目のhello += ' world'が反映されていない)\n",
    "output_list = add_world(h_list)#値渡し(この時点でh_list自体に2行目のhello += ' world'が反映されている)\n",
    "#''内の｛｝は . format()の返り値の代入場所(formatのメリットは文字列の結合部位を{}で指定できるところ)\n",
    "print('output_str: {}'.format(output_str))#　immutable: int, float, bool, str, tuple\n",
    "print('output_list: {}'.format(output_list))#　mutable: list, set, dict\n",
    "\n",
    "print('h_str: {}'.format(h_str))\n",
    "print('h_list: {}'.format(h_list))\n",
    "\n",
    "ndarray = np.arange(0, 5)\n",
    "ndarray_copy = ndarray.copy()\n",
    "print(\"original array's id is {}\".format(id(ndarray)))\n",
    "print(\"copied array's id is {}\".format(id(ndarray_copy)))\n",
    "\n",
    "#changing original array\n",
    "ndarray[:] = 100 #[:]はsliceのデフォルトの値で、行列全体が対象となっている\n",
    "print('original array:\\n', ndarray)\n",
    "print('copied array:\\n', ndarray_copy)\n",
    "\n",
    "def change_hundred(array):\n",
    "\n",
    "    array[0] = 100\n",
    "    print(array)\n",
    "\n",
    "def change_hundred_copy(array):\n",
    "    \n",
    "    array_copy = array.copy()\n",
    "    array_copy[0] = 100\n",
    "    print(array_copy)\n",
    "\n",
    "array_1 = np.arange(0, 4)\n",
    "array_2 = np.arange(0, 4)\n",
    "\n",
    "output_array = change_hundred(array_1)\n",
    "output_array_copy = change_hundred_copy(array_2)\n",
    "\n",
    "print('original array_1:\\n', array_1)#.copy()をとっておかないとオリジナルのarrayごと変更されてしまうので注意！\n",
    "print('original array_2:\\n', array_2)"
   ]
  },
  {
   "cell_type": "code",
   "execution_count": 11,
   "metadata": {},
   "outputs": [
    {
     "name": "stdout",
     "output_type": "stream",
     "text": [
      "[[[0. 0. 0. 0. 0.]\n",
      "  [0. 0. 0. 0. 0.]\n",
      "  [0. 0. 0. 0. 0.]]\n",
      "\n",
      " [[0. 0. 0. 0. 0.]\n",
      "  [0. 0. 0. 0. 0.]\n",
      "  [0. 0. 0. 0. 0.]]]\n"
     ]
    }
   ],
   "source": [
    "shape = (2, 3, 5)\n",
    "zeros = np.zeros(shape) #いわゆる零行列をつくります．要素が全て0のndarrayです. shapeをタプルで渡しましょう． np.zeros(4) など，タプルではなくintegerを入れるとその数文の一列の零行列ができます．( [0, 0, 0, 0] \n",
    "print(zeros)"
   ]
  },
  {
   "cell_type": "code",
   "execution_count": 12,
   "metadata": {},
   "outputs": [
    {
     "name": "stdout",
     "output_type": "stream",
     "text": [
      "[[[1. 1. 1. 1. 1.]\n",
      "  [1. 1. 1. 1. 1.]\n",
      "  [1. 1. 1. 1. 1.]]\n",
      "\n",
      " [[1. 1. 1. 1. 1.]\n",
      "  [1. 1. 1. 1. 1.]\n",
      "  [1. 1. 1. 1. 1.]]]\n",
      "[1. 1. 1. 1.]\n"
     ]
    },
    {
     "data": {
      "text/plain": [
       "array([[1., 0., 0., 0., 0.],\n",
       "       [0., 1., 0., 0., 0.],\n",
       "       [0., 0., 1., 0., 0.]])"
      ]
     },
     "execution_count": 12,
     "metadata": {},
     "output_type": "execute_result"
    }
   ],
   "source": [
    "shape = (2, 3, 5)\n",
    "ones_array_1 = np.ones(shape)#np.zerosの「1」版です．全ての要素が「１」になります．\n",
    "ones_array_2 = np.ones(4)\n",
    "\n",
    "print(ones_array_1)\n",
    "print(ones_array_2)\n",
    "\n",
    "np.eye(3) #N x Nの単位行列を作ります．単位行列というのは対角成分が全て１となる正方行列です\n",
    "np.eye(3, 5)#また， np.eye(N, M) とすると，N行M列の行列を作ることもできます．（滅多に使いませんが）\n"
   ]
  },
  {
   "cell_type": "code",
   "execution_count": 13,
   "metadata": {},
   "outputs": [
    {
     "data": {
      "text/plain": [
       "array([0. , 0.1, 0.2, 0.3, 0.4, 0.5, 0.6, 0.7, 0.8, 0.9, 1. , 1.1, 1.2,\n",
       "       1.3, 1.4, 1.5, 1.6, 1.7, 1.8, 1.9, 2. , 2.1, 2.2, 2.3, 2.4, 2.5,\n",
       "       2.6, 2.7, 2.8, 2.9, 3. , 3.1, 3.2, 3.3, 3.4, 3.5, 3.6, 3.7, 3.8,\n",
       "       3.9, 4. , 4.1, 4.2, 4.3, 4.4, 4.5, 4.6, 4.7, 4.8, 4.9])"
      ]
     },
     "execution_count": 13,
     "metadata": {},
     "output_type": "execute_result"
    }
   ],
   "source": [
    "np.arange(0, 5, 0.1)"
   ]
  },
  {
   "cell_type": "code",
   "execution_count": 14,
   "metadata": {},
   "outputs": [
    {
     "name": "stdout",
     "output_type": "stream",
     "text": [
      "random_float: 0.1745145145538196\n",
      "\n",
      "random_1d: [0.40172919 0.24397585 0.94623347]\n",
      "\n",
      "random_2d: [[0.35307266 0.47635144 0.92612002 0.73589975]\n",
      " [0.46557487 0.53226356 0.26572387 0.42052098]\n",
      " [0.09869821 0.2383009  0.89983605 0.54628872]]\n",
      "\n"
     ]
    }
   ],
   "source": [
    "#0 ~ 1からランダムな数字で行列を作ることができます．引数を入れなければfloatが，引数の数によって返されるarrayの次元が変わります\n",
    "random_float = np.random.rand()\n",
    "random_1d = np.random.rand(3)\n",
    "random_2d = np.random.rand(3, 4)\n",
    "\n",
    "print('random_float: {}\\n'.format(random_float))\n",
    "print('random_1d: {}\\n'.format(random_1d))\n",
    "print('random_2d: {}\\n'.format(random_2d))"
   ]
  },
  {
   "cell_type": "code",
   "execution_count": 15,
   "metadata": {},
   "outputs": [
    {
     "name": "stdout",
     "output_type": "stream",
     "text": [
      "random_float: -0.4512040460418405\n",
      "\n",
      "random_1d: [ 0.93181368 -1.1888023  -0.73816372]\n",
      "\n",
      "random_2d: [[-0.24969454  1.16321745  0.22405934 -0.42302541]\n",
      " [-0.17650149 -0.35609844 -1.17167254  1.2193511 ]\n",
      " [-0.83126331 -0.27016985  0.04200335  1.72950071]]\n",
      "\n"
     ]
    }
   ],
   "source": [
    "#np.random.rand() が0 ~ 1からランダムな数字が返されるのに対し， np.random.randn() は標準正規分布(平均0, 分散1の正規分布)から値が返されます\n",
    "random_float = np.random.randn()\n",
    "random_1d = np.random.randn(3)\n",
    "random_2d = np.random.randn(3, 4)\n",
    "\n",
    "print('random_float: {}\\n'.format(random_float))\n",
    "print('random_1d: {}\\n'.format(random_1d))\n",
    "print('random_2d: {}\\n'.format(random_2d))"
   ]
  },
  {
   "cell_type": "code",
   "execution_count": 16,
   "metadata": {},
   "outputs": [
    {
     "data": {
      "text/plain": [
       "array([[[13, 22, 49],\n",
       "        [38, 11, 12],\n",
       "        [15, 45, 34],\n",
       "        [47, 29, 18]],\n",
       "\n",
       "       [[23, 38, 24],\n",
       "        [43, 39, 35],\n",
       "        [29, 44, 46],\n",
       "        [37, 38, 30]]])"
      ]
     },
     "execution_count": 16,
     "metadata": {},
     "output_type": "execute_result"
    }
   ],
   "source": [
    "#これが，ランダム系で一番使うかもしれません．low以上hight未満のintegerからランダムに，指定したsizeのndarrayを返します．(sizeを指定しなかった場合はintegerを返す)\n",
    "np.random.randint(10, 50, size=(2, 4, 3))\n",
    "#実際にランダム値を使う時って，ランダムなindexが必要だったりと，0 ~ 1の間のランダム値よりも指定した範囲のintegerのランダム値を使うことの方が多いです．データサイエンス頻出です．"
   ]
  },
  {
   "cell_type": "code",
   "execution_count": 17,
   "metadata": {},
   "outputs": [
    {
     "name": "stdout",
     "output_type": "stream",
     "text": [
      "array:\n",
      "[0 1 2 3 4 5 6 7 8 9]\n",
      "reshaped array:\n",
      "[[0 1 2 3 4]\n",
      " [5 6 7 8 9]] \n",
      "reshaped array's is:\n",
      "(2, 5) \n",
      "original array is NOT changed:\n",
      "[0 1 2 3 4 5 6 7 8 9]\n"
     ]
    }
   ],
   "source": [
    "#.reshape(shape)超超超頻出です．あるndarrayのshapeを任意のshapeに変換(reshape)します．\n",
    "#.reshape()によりもとのarrayは更新されません．新しいarrayが返されることに注意しましょう．\n",
    "# また，新しいshapeはarrayの要素数と合ってないといけません．以下はエラーになります．\n",
    "#li = np.arange(0,10)　要素数１０個\n",
    "#new_shape = (2,3) 要素数６個\n",
    "#reshaped_array = array.reshape(new_shape)　エラー\n",
    "array = np.arange(0, 10)\n",
    "print('array:\\n{}'.format(array))\n",
    "new_shape = (2, 5)\n",
    "reshaped_array = array.reshape(new_shape)\n",
    "print('reshaped array:\\n{} '.format(reshaped_array))\n",
    "print(\"reshaped array's is:\\n{} \".format(reshaped_array.shape))\n",
    "print('original array is NOT changed:\\n{}'.format(array))"
   ]
  },
  {
   "cell_type": "code",
   "execution_count": 22,
   "metadata": {},
   "outputs": [
    {
     "name": "stdout",
     "output_type": "stream",
     "text": [
      "array is:\n",
      "[[1 2 3]\n",
      " [4 5 6]\n",
      " [7 8 9]]\n",
      "ndarray's shape is:\n",
      "(3, 3)\n",
      "[[[1 2 3]\n",
      "  [4 5 6]\n",
      "  [7 8 9]]]\n",
      "[[1 2 3]\n",
      " [4 5 6]\n",
      " [7 8 9]]\n",
      "flatten_array:\n",
      "[1 2 3 4 5 6 7 8 9]\n",
      "ndarray:\n",
      "[[1 2 3]\n",
      " [4 5 6]\n",
      " [7 8 9]]\n"
     ]
    }
   ],
   "source": [
    "ndarray = np.array([[1, 2, 3], [4, 5, 6], [7, 8, 9]])\n",
    "print('array is:\\n{}'.format(ndarray))\n",
    "print(\"ndarray's shape is:\\n{}\".format(ndarray.shape))\n",
    "expanded_ndarray = np.expand_dims(ndarray, axis=0)\n",
    "expanded_ndarray.shape\n",
    "print(expanded_ndarray)\n",
    "squeezed_expanded_ndarray = np.squeeze(expanded_ndarray)\n",
    "squeezed_expanded_ndarray.shape\n",
    "print(squeezed_expanded_ndarray)\n",
    "\n",
    "flatten_array = ndarray.flatten()\n",
    "print('flatten_array:\\n{}'.format(flatten_array))\n",
    "print('ndarray:\\n{}'.format(ndarray))\n"
   ]
  },
  {
   "cell_type": "code",
   "execution_count": 26,
   "metadata": {},
   "outputs": [
    {
     "data": {
      "text/plain": [
       "array([[  1,   2,   3,   4],\n",
       "       [ 10,  20,  30,  40],\n",
       "       [100, 200, 300, 400]])"
      ]
     },
     "execution_count": 26,
     "metadata": {},
     "output_type": "execute_result"
    }
   ],
   "source": [
    "ndarray = np.array([\n",
    "    [1, 2, 3, 4],\n",
    "    [10, 20, 30, 40],\n",
    "    [100, 200, 300, 400],\n",
    "])\n",
    "np.save('saved_numpy.npy', ndarray)\n",
    "loaded_numpy = np.load('saved_numpy.npy')\n",
    "loaded_numpy"
   ]
  },
  {
   "cell_type": "code",
   "execution_count": 1,
   "metadata": {},
   "outputs": [],
   "source": [
    "import pandas as pd"
   ]
  }
 ],
 "metadata": {
  "kernelspec": {
   "display_name": "Python 3",
   "language": "python",
   "name": "python3"
  },
  "language_info": {
   "codemirror_mode": {
    "name": "ipython",
    "version": 3
   },
   "file_extension": ".py",
   "mimetype": "text/x-python",
   "name": "python",
   "nbconvert_exporter": "python",
   "pygments_lexer": "ipython3",
   "version": "3.11.4"
  },
  "orig_nbformat": 4
 },
 "nbformat": 4,
 "nbformat_minor": 2
}
